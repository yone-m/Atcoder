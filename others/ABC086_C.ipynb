{
 "cells": [
  {
   "cell_type": "code",
   "execution_count": 2,
   "metadata": {},
   "outputs": [],
   "source": [
    "N=2"
   ]
  },
  {
   "cell_type": "code",
   "execution_count": 3,
   "metadata": {
    "scrolled": true
   },
   "outputs": [
    {
     "name": "stdout",
     "output_type": "stream",
     "text": [
      "3 1 2\n",
      "6 1 1\n"
     ]
    }
   ],
   "source": [
    "tl=yl=xl=[]\n",
    "for i in range(N):\n",
    "    t,x,y=map(int,input().split())\n",
    "    tl.append(t)\n",
    "    xl.append(x)\n",
    "    yl.append(y)"
   ]
  },
  {
   "cell_type": "markdown",
   "metadata": {},
   "source": [
    "時刻3:(1,2)  \n",
    "時刻6:(1,1)  \n",
    "にいることが出来るか？  \n",
    "時刻1:(1,0),(0,1)  無理:(0,0)  \n",
    "時刻2:(2,0),(1,1),(0,2),(0,0)　無理:(1,0),(0,1)  \n",
    "時刻3:(2,1),(3,0),(1,0),(0,1),(1,2)  無理:(0,0),(2,0),(0,2),(1,1)  \n",
    "時刻4:(3,1),(2,2),(4,0),(2,0),(1,1),(0,2),(1,3),(0,0)  無理:(3,0),(0,3),(3,0),(2,1),(1,2),(1,0),(0,1)  \n",
    "予想：(0,0)は奇数時刻に無理，x座標とy座標の合計が時刻-1なら無理"
   ]
  },
  {
   "cell_type": "code",
   "execution_count": 17,
   "metadata": {},
   "outputs": [],
   "source": [
    "#これでは一部WA\n",
    "def rote():\n",
    "    N=2\n",
    "    tl=[]\n",
    "    xl=[]\n",
    "    yl=[]\n",
    "    for i in range(N):\n",
    "        t,x,y=map(int,input().split())\n",
    "        tl.append(t)\n",
    "        xl.append(x)\n",
    "        yl.append(y)\n",
    "    for i in range(N):\n",
    "        if xl[i]+yl[i]>tl[i]:\n",
    "            print(\"No\")\n",
    "            return\n",
    "        if xl[i]+yl[i]==tl[i]-1:\n",
    "            print(\"No\")\n",
    "            return\n",
    "        if xl[i]==0 and yl[i]==0 and tl[i]%2!=0:\n",
    "            print(\"No\")\n",
    "            return\n",
    "    print(\"Yes\")\n",
    "rote()"
   ]
  },
  {
   "cell_type": "code",
   "execution_count": null,
   "metadata": {},
   "outputs": [],
   "source": [
    "#改訂版，しかしこれでもaftersetが通らない\n",
    "def rote():\n",
    "    N=int(input())\n",
    "    tl=[]\n",
    "    xl=[]\n",
    "    yl=[]\n",
    "    for i in range(N):\n",
    "        t,x,y=map(int,input().split())\n",
    "        tl.append(t)\n",
    "        xl.append(x)\n",
    "        yl.append(y)\n",
    "    for i in range(N):\n",
    "        if xl[i]+yl[i]>tl[i]:\n",
    "            print(\"No\")\n",
    "            return\n",
    "        if xl[i]+yl[i]==tl[i]-1:\n",
    "            print(\"No\")\n",
    "            return\n",
    "        if (xl[i]+yl[i])%2!=tl[i]%2:\n",
    "            print(\"No\")\n",
    "            return\n",
    "    print(\"Yes\")\n",
    "rote()"
   ]
  },
  {
   "cell_type": "code",
   "execution_count": 19,
   "metadata": {},
   "outputs": [
    {
     "name": "stdout",
     "output_type": "stream",
     "text": [
      "4\n",
      "4\n"
     ]
    },
    {
     "ename": "ValueError",
     "evalue": "not enough values to unpack (expected 3, got 1)",
     "output_type": "error",
     "traceback": [
      "\u001b[1;31m---------------------------------------------------------------------------\u001b[0m",
      "\u001b[1;31mValueError\u001b[0m                                Traceback (most recent call last)",
      "\u001b[1;32m<ipython-input-19-fe638b9986bd>\u001b[0m in \u001b[0;36m<module>\u001b[1;34m\u001b[0m\n\u001b[0;32m     21\u001b[0m         \u001b[0mdx\u001b[0m\u001b[1;33m,\u001b[0m\u001b[0mdy\u001b[0m\u001b[1;33m,\u001b[0m\u001b[0mdt\u001b[0m\u001b[1;33m=\u001b[0m\u001b[0mxl\u001b[0m\u001b[1;33m[\u001b[0m\u001b[0mi\u001b[0m\u001b[1;33m]\u001b[0m\u001b[1;33m,\u001b[0m\u001b[0myl\u001b[0m\u001b[1;33m[\u001b[0m\u001b[0mi\u001b[0m\u001b[1;33m]\u001b[0m\u001b[1;33m,\u001b[0m\u001b[0mtl\u001b[0m\u001b[1;33m[\u001b[0m\u001b[0mi\u001b[0m\u001b[1;33m]\u001b[0m\u001b[1;33m\u001b[0m\u001b[1;33m\u001b[0m\u001b[0m\n\u001b[0;32m     22\u001b[0m     \u001b[0mprint\u001b[0m\u001b[1;33m(\u001b[0m\u001b[1;34m\"Yes\"\u001b[0m\u001b[1;33m)\u001b[0m\u001b[1;33m\u001b[0m\u001b[1;33m\u001b[0m\u001b[0m\n\u001b[1;32m---> 23\u001b[1;33m \u001b[0mrote\u001b[0m\u001b[1;33m(\u001b[0m\u001b[1;33m)\u001b[0m\u001b[1;33m\u001b[0m\u001b[1;33m\u001b[0m\u001b[0m\n\u001b[0m",
      "\u001b[1;32m<ipython-input-19-fe638b9986bd>\u001b[0m in \u001b[0;36mrote\u001b[1;34m()\u001b[0m\n\u001b[0;32m      6\u001b[0m     \u001b[0mdx\u001b[0m\u001b[1;33m=\u001b[0m\u001b[0mdy\u001b[0m\u001b[1;33m=\u001b[0m\u001b[0mdt\u001b[0m\u001b[1;33m=\u001b[0m\u001b[1;36m0\u001b[0m\u001b[1;33m\u001b[0m\u001b[1;33m\u001b[0m\u001b[0m\n\u001b[0;32m      7\u001b[0m     \u001b[1;32mfor\u001b[0m \u001b[0mi\u001b[0m \u001b[1;32min\u001b[0m \u001b[0mrange\u001b[0m\u001b[1;33m(\u001b[0m\u001b[0mN\u001b[0m\u001b[1;33m)\u001b[0m\u001b[1;33m:\u001b[0m\u001b[1;33m\u001b[0m\u001b[1;33m\u001b[0m\u001b[0m\n\u001b[1;32m----> 8\u001b[1;33m         \u001b[0mt\u001b[0m\u001b[1;33m,\u001b[0m\u001b[0mx\u001b[0m\u001b[1;33m,\u001b[0m\u001b[0my\u001b[0m\u001b[1;33m=\u001b[0m\u001b[0mmap\u001b[0m\u001b[1;33m(\u001b[0m\u001b[0mint\u001b[0m\u001b[1;33m,\u001b[0m\u001b[0minput\u001b[0m\u001b[1;33m(\u001b[0m\u001b[1;33m)\u001b[0m\u001b[1;33m.\u001b[0m\u001b[0msplit\u001b[0m\u001b[1;33m(\u001b[0m\u001b[1;33m)\u001b[0m\u001b[1;33m)\u001b[0m\u001b[1;33m\u001b[0m\u001b[1;33m\u001b[0m\u001b[0m\n\u001b[0m\u001b[0;32m      9\u001b[0m         \u001b[0mtl\u001b[0m\u001b[1;33m.\u001b[0m\u001b[0mappend\u001b[0m\u001b[1;33m(\u001b[0m\u001b[0mt\u001b[0m\u001b[1;33m)\u001b[0m\u001b[1;33m\u001b[0m\u001b[1;33m\u001b[0m\u001b[0m\n\u001b[0;32m     10\u001b[0m         \u001b[0mxl\u001b[0m\u001b[1;33m.\u001b[0m\u001b[0mappend\u001b[0m\u001b[1;33m(\u001b[0m\u001b[0mx\u001b[0m\u001b[1;33m)\u001b[0m\u001b[1;33m\u001b[0m\u001b[1;33m\u001b[0m\u001b[0m\n",
      "\u001b[1;31mValueError\u001b[0m: not enough values to unpack (expected 3, got 1)"
     ]
    }
   ],
   "source": [
    "#これでOK\n",
    "def rote():\n",
    "    N=int(input())\n",
    "    tl=[]\n",
    "    xl=[]\n",
    "    yl=[]\n",
    "    dx=dy=dt=0\n",
    "    for i in range(N):\n",
    "        t,x,y=map(int,input().split())\n",
    "        tl.append(t)\n",
    "        xl.append(x)\n",
    "        yl.append(y)\n",
    "        if xl[i]+yl[i]>tl[i]:\n",
    "            print(\"No\")\n",
    "            return\n",
    "        if (xl[i]+yl[i])%2!=tl[i]%2:\n",
    "            print(\"No\")\n",
    "            return\n",
    "        if abs(xl[i]-dx)+abs(yl[i]-dy)>abs(tl[i]-dt):\n",
    "            print(\"No\")\n",
    "            return\n",
    "        dx,dy,dt=xl[i],yl[i],tl[i]\n",
    "    print(\"Yes\")\n",
    "rote()"
   ]
  },
  {
   "cell_type": "code",
   "execution_count": null,
   "metadata": {},
   "outputs": [],
   "source": []
  }
 ],
 "metadata": {
  "kernelspec": {
   "display_name": "Python 3.8.2 64-bit",
   "language": "python",
   "name": "python38264bite513cacf2d1a40fc96e4023b18037327"
  },
  "language_info": {
   "codemirror_mode": {
    "name": "ipython",
    "version": 3
   },
   "file_extension": ".py",
   "mimetype": "text/x-python",
   "name": "python",
   "nbconvert_exporter": "python",
   "pygments_lexer": "ipython3",
   "version": "3.8.2"
  },
  "toc": {
   "base_numbering": 1,
   "nav_menu": {},
   "number_sections": false,
   "sideBar": true,
   "skip_h1_title": false,
   "title_cell": "Table of Contents",
   "title_sidebar": "Contents",
   "toc_cell": false,
   "toc_position": {},
   "toc_section_display": true,
   "toc_window_display": false
  }
 },
 "nbformat": 4,
 "nbformat_minor": 4
}
