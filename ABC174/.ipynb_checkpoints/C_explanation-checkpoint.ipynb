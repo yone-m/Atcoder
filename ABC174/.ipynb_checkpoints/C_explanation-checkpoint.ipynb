{
 "cells": [
  {
   "cell_type": "markdown",
   "metadata": {},
   "source": [
    "問題は，$a_i\\equiv0\\:(mod K)$となる最小の$i$を求めよ  \n",
    "と，変換することが出来る．なので，$a_i$は$mod K$で考えればよい．"
   ]
  },
  {
   "cell_type": "markdown",
   "metadata": {},
   "source": [
    "$\n",
    "a=[7,77,777,7777,…]\\\\\n",
    "つまり，\n",
    "a_i=\n",
    "\\begin{cases}\n",
    "7 \\quad\\quad\\quad\\quad mod K(i=1) \\\\\n",
    "10a_{i-1}+7 \\quad mod K(i\\geqq2) \\\\\n",
    "\\end{cases}\n",
    "$"
   ]
  },
  {
   "cell_type": "markdown",
   "metadata": {},
   "source": [
    "ex)K=13\n",
    "\n",
    "$\n",
    "a_1=7\\equiv7\\quad  (mod\\,13)\\\\\n",
    "a_2=77\\equiv12\\quad (mod\\,13)\\\\\n",
    "a_3=777\\equiv10\\quad (mod\\,13)\\\\\n",
    "a_4=7777\\equiv3\\quad (mod\\,13)\\\\\n",
    "a_5=77777\\equiv11\\quad (mod\\,13)\\\\\n",
    "a_6=777777\\equiv0\\quad (mod\\,13)\\\\\n",
    "$"
   ]
  },
  {
   "cell_type": "markdown",
   "metadata": {},
   "source": [
    "実装"
   ]
  },
  {
   "cell_type": "code",
   "execution_count": 15,
   "metadata": {},
   "outputs": [],
   "source": [
    "K=999983"
   ]
  },
  {
   "cell_type": "code",
   "execution_count": 27,
   "metadata": {},
   "outputs": [],
   "source": [
    "def waru(K):\n",
    "    a=[]\n",
    "    if K%2==0 or K%5==0:\n",
    "        print(\"-1\")\n",
    "        return\n",
    "    a.append(7%K)\n",
    "    for i in range(1,K):\n",
    "        a.append((10*a[i-1]+7)%K)\n",
    "    for i in range(K):\n",
    "        if a[i]==0:\n",
    "            print(i+1)\n",
    "            return\n",
    "    print(-1)"
   ]
  },
  {
   "cell_type": "code",
   "execution_count": 28,
   "metadata": {},
   "outputs": [
    {
     "name": "stdout",
     "output_type": "stream",
     "text": [
      "999982\n"
     ]
    }
   ],
   "source": [
    "waru(K)"
   ]
  },
  {
   "cell_type": "code",
   "execution_count": null,
   "metadata": {},
   "outputs": [],
   "source": []
  }
 ],
 "metadata": {
  "kernelspec": {
   "display_name": "Python 3.8.2 64-bit",
   "language": "python",
   "name": "python38264bite513cacf2d1a40fc96e4023b18037327"
  },
  "language_info": {
   "codemirror_mode": {
    "name": "ipython",
    "version": 3
   },
   "file_extension": ".py",
   "mimetype": "text/x-python",
   "name": "python",
   "nbconvert_exporter": "python",
   "pygments_lexer": "ipython3",
   "version": "3.8.2"
  },
  "toc": {
   "base_numbering": 1,
   "nav_menu": {},
   "number_sections": false,
   "sideBar": true,
   "skip_h1_title": false,
   "title_cell": "Table of Contents",
   "title_sidebar": "Contents",
   "toc_cell": false,
   "toc_position": {},
   "toc_section_display": true,
   "toc_window_display": false
  }
 },
 "nbformat": 4,
 "nbformat_minor": 4
}
