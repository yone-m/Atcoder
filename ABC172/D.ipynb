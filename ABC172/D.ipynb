{
 "cells": [
  {
   "cell_type": "markdown",
   "metadata": {},
   "source": [
    "## [ABC172_D](https://atcoder.jp/contests/abc172/tasks/abc172_d)"
   ]
  },
  {
   "cell_type": "markdown",
   "metadata": {},
   "source": [
    "#### 自分の解答:TLE\n",
    "ネットで拾った約数の個数のプログラムを引用．そもそも約数の個数の出し方が分からない…"
   ]
  },
  {
   "cell_type": "code",
   "execution_count": null,
   "metadata": {},
   "outputs": [],
   "source": [
    "n=int(input())\n",
    "def f(n):\n",
    "    lower_divisors = []\n",
    "    upper_divisors = []\n",
    "    for i in range(1, int(n**0.5)+1):\n",
    "        if n % i == 0:\n",
    "            lower_divisors.append(i)\n",
    "            if i != n // i:\n",
    "                upper_divisors.append(n//i)\n",
    "    upper_divisors.reverse()\n",
    "    return n*len(lower_divisors + upper_divisors)\n",
    "sumi=0\n",
    "for i in range(1,n+1):\n",
    "    sumi+=f(i)\n",
    "print(sumi)"
   ]
  },
  {
   "cell_type": "markdown",
   "metadata": {},
   "source": [
    "#### 解説をもとにした解答     \n",
    "<br>\n",
    "<dt>方針</dt>\n",
    "<dd>整数$j$に対して$j$の倍数かつ，N以下の整数の総和を$g(j)$とする．<br>  \n",
    "このとき，問題で求める式は$\\sum_{i=0}^{N}g(j)$と書くことが出来る.<br>\n",
    "$g(j)$は$j$の等差数列であるので，$g(j)= j+2j+...+yj=y(y+1)j/2$で求めることが出来る．<br>     \n",
    "ここで，$y$は$j / N$以下の最大の整数である．</dd>  \n",
    "<br>\n",
    "<dt>具体例</dt>\n",
    "<dd>$g(1)=1+2+...+10,g(2)=2+4+6+8+10$</dd>"
   ]
  },
  {
   "cell_type": "code",
   "execution_count": 11,
   "metadata": {},
   "outputs": [
    {
     "name": "stdout",
     "output_type": "stream",
     "text": [
      "10\n"
     ]
    }
   ],
   "source": [
    "n = int(input())\n",
    "ans = 0\n",
    "\n",
    "for i in range(1, n+1):\n",
    "    y=n//i\n",
    "    ans+=y*(y+1)*i//2"
   ]
  },
  {
   "cell_type": "code",
   "execution_count": 12,
   "metadata": {},
   "outputs": [
    {
     "name": "stdout",
     "output_type": "stream",
     "text": [
      "170\n"
     ]
    }
   ],
   "source": [
    "print(ans)"
   ]
  },
  {
   "cell_type": "markdown",
   "metadata": {},
   "source": [
    "##### 番外編"
   ]
  },
  {
   "cell_type": "code",
   "execution_count": 2,
   "metadata": {},
   "outputs": [
    {
     "data": {
      "text/plain": [
       "[1, 2, 5, 10]"
      ]
     },
     "execution_count": 2,
     "metadata": {},
     "output_type": "execute_result"
    }
   ],
   "source": [
    "#sympyという便利なものもある\n",
    "import sympy\n",
    "#約数を列挙してくれる\n",
    "sympy.divisors(10)"
   ]
  },
  {
   "cell_type": "code",
   "execution_count": 19,
   "metadata": {},
   "outputs": [],
   "source": [
    "n=10\n",
    "ans2=0\n",
    "for i in range(1,n+1):\n",
    "    ans2+=i*sympy.divisor_count(i)"
   ]
  },
  {
   "cell_type": "code",
   "execution_count": 20,
   "metadata": {},
   "outputs": [
    {
     "name": "stdout",
     "output_type": "stream",
     "text": [
      "170\n"
     ]
    }
   ],
   "source": [
    "print(ans2)"
   ]
  }
 ],
 "metadata": {
  "kernelspec": {
   "display_name": "Python 3",
   "language": "python",
   "name": "python3"
  },
  "language_info": {
   "codemirror_mode": {
    "name": "ipython",
    "version": 3
   },
   "file_extension": ".py",
   "mimetype": "text/x-python",
   "name": "python",
   "nbconvert_exporter": "python",
   "pygments_lexer": "ipython3",
   "version": "3.8.2"
  }
 },
 "nbformat": 4,
 "nbformat_minor": 4
}
