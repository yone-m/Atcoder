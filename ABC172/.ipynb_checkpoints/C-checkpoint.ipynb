{
 "cells": [
  {
   "cell_type": "markdown",
   "metadata": {},
   "source": [
    "## [ABC172_C](https://atcoder.jp/contests/abc172/tasks/abc172_c)"
   ]
  },
  {
   "cell_type": "code",
   "execution_count": 20,
   "metadata": {},
   "outputs": [],
   "source": [
    "n,m,k=3,4,240\n",
    "A=[60,90,120]\n",
    "B=[80,150,80,150]"
   ]
  },
  {
   "cell_type": "markdown",
   "metadata": {},
   "source": [
    "#### うまくいかなかった自分のコード\n",
    "そもそもすべてのパターンを試していないので論外．途中でそれに気づいた．"
   ]
  },
  {
   "cell_type": "code",
   "execution_count": 27,
   "metadata": {},
   "outputs": [
    {
     "name": "stdout",
     "output_type": "stream",
     "text": [
      "A select 60\n",
      "B select 140\n",
      "A select 230\n",
      "A select 350\n",
      "B select 500\n",
      "B select 580\n",
      "B select 730\n",
      "7\n"
     ]
    }
   ],
   "source": [
    "'''\n",
    "#n,m,k=map(int,input().split())\n",
    "#A=list(map(int,input().split()))\n",
    "#B=list(map(int,input().split()))\n",
    "def func(A,B,k):\n",
    "    i=0\n",
    "    j=0\n",
    "    time=0\n",
    "    cnt=0\n",
    "    while time<=k:\n",
    "        if i==len(A) and j==len(B):\n",
    "            #最後の一つも合わせる\n",
    "            cnt+=1\n",
    "            break\n",
    "            \n",
    "        elif i==len(A):\n",
    "            time+=B[j]\n",
    "            j+=1\n",
    "            print(\"B select\",time)\n",
    "            continue\n",
    "        elif j==len(B):\n",
    "            time+=A[i]\n",
    "            i+=1\n",
    "            print(\"A select\",time)\n",
    "            continue\n",
    "\n",
    "        if A[i]<=B[j]:\n",
    "            time+=A[i]\n",
    "            print(\"A select\",time)\n",
    "            i+=1\n",
    "        elif A[i]>B[j]:\n",
    "            time+=B[j]\n",
    "            print(\"B select\",time)\n",
    "            j+=1    \n",
    "    return (i+j-1+cnt)\n",
    "print(func(A,B,k))\n",
    "'''"
   ]
  },
  {
   "cell_type": "markdown",
   "metadata": {},
   "source": [
    "#### 解説のコード"
   ]
  },
  {
   "cell_type": "code",
   "execution_count": 21,
   "metadata": {},
   "outputs": [],
   "source": [
    "#n,m,k=map(int,input().split())\n",
    "#A=list(map(int,input().split()))\n",
    "#B=list(map(int,input().split()))\n",
    "a,b=[0],[0]\n",
    "\n",
    "for i in range(n):\n",
    "    #a[1]にa[0]+A[0]が，a[2]にa[1]+A[1]が入る\n",
    "    #最終的に，a[]は0から始まり，机Aの本を読むのにかかる時間を一冊ずつ足していったものになる\n",
    "    a.append(a[i]+A[i])\n",
    "\n",
    "#Bも同様\n",
    "for j in range(m):\n",
    "    b.append(b[j]+B[j])"
   ]
  },
  {
   "cell_type": "code",
   "execution_count": 22,
   "metadata": {},
   "outputs": [],
   "source": [
    "ans=0\n",
    "j=m"
   ]
  },
  {
   "cell_type": "code",
   "execution_count": 23,
   "metadata": {},
   "outputs": [
    {
     "name": "stdout",
     "output_type": "stream",
     "text": [
      "0 3\n",
      "0 2\n",
      "暫定 2\n",
      "1 1\n",
      "暫定 2\n",
      "暫定 3\n",
      "time 270\n",
      "3\n"
     ]
    }
   ],
   "source": [
    "for i in range(n+1):\n",
    "    if a[i]>k:\n",
    "        print(\"time\",a[i])\n",
    "        break\n",
    "    while a[i]+b[j]>k: #公式解説ではb[j]>k-a[i]\n",
    "        j-=1\n",
    "        print(i,j)\n",
    "    ans=max(ans,i+j)\n",
    "    print(\"暫定\",ans)\n",
    "print(ans)"
   ]
  },
  {
   "cell_type": "markdown",
   "metadata": {},
   "source": [
    "#### 計算量の話    \n",
    "この問題を愚直に解こうとすると，*(i ,j)* =(0,0),(0,1)…(M,N)についてすべての組み合わせを考える必要がある．   \n",
    "これは，*(N+1)*×*(M+1)*通り存在するため，N=M=200000の場合では，時間計算量がO(10^10)となり間に合わない．  \n",
    "（計算量に関しては，[Qiita](https://qiita.com/drken/items/872ebc3a2b5caaa4a0d0)を参照．大体**O(10^8)が間に合うか間に合わないかのライン**だと考えてよい．)    \n",
    "そこで，*i*についてのみ，*i* =0,1,...,Nを考える．そして，それぞれの*i*における*j*の最大値を考える．    \n",
    "*i*が増えるにつれて，*j*は同じか減るので，while文内の*j*を元の値に戻す必要はない．    \n",
    "また，そのときの計算量は，最大が*i*=N, *j*=0のときであるから，O(N+M)となる．"
   ]
  }
 ],
 "metadata": {
  "kernelspec": {
   "display_name": "Python 3",
   "language": "python",
   "name": "python3"
  },
  "language_info": {
   "codemirror_mode": {
    "name": "ipython",
    "version": 3
   },
   "file_extension": ".py",
   "mimetype": "text/x-python",
   "name": "python",
   "nbconvert_exporter": "python",
   "pygments_lexer": "ipython3",
   "version": "3.8.2"
  }
 },
 "nbformat": 4,
 "nbformat_minor": 4
}
