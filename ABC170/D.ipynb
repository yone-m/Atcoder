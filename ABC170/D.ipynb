{
 "cells": [
  {
   "cell_type": "code",
   "execution_count": 1,
   "metadata": {},
   "outputs": [],
   "source": [
    "#TLEになったコード：計算量がO（N^2）\n",
    "'''\n",
    "N=int(input())\n",
    " \n",
    "A=list(map(int,input().split()))\n",
    " \n",
    "rcnt=0\n",
    "length=len(A)\n",
    " \n",
    "for i in range(length):\n",
    "    cnt=0\n",
    "    for j in range(length):\n",
    "        if A[i]%A[j]!=0 and A[i]!=A[j]:\n",
    "            cnt+=1\n",
    "    if cnt==N-1:\n",
    "        rcnt+=1\n",
    "print(rcnt)\n",
    "'''"
   ]
  },
  {
   "cell_type": "code",
   "execution_count": 2,
   "metadata": {},
   "outputs": [],
   "source": [
    "A=[24,11,8,3,16]"
   ]
  },
  {
   "cell_type": "code",
   "execution_count": 10,
   "metadata": {},
   "outputs": [],
   "source": [
    "cnt=0\n",
    "rcnt=0\n",
    "length=len(A)"
   ]
  },
  {
   "cell_type": "code",
   "execution_count": 25,
   "metadata": {},
   "outputs": [],
   "source": [
    "rcnt=0\n",
    "length=len(A)\n",
    "def length(n,*A):\n",
    "    \n",
    "    for i in range(length):\n",
    "        if A[i]==A[i+1]:\n",
    "            cnt+=1\n",
    "        if cnt==N:\n",
    "            print(0)\n",
    "            return\n",
    "\n",
    "    for i in range(length):\n",
    "        cnt=0\n",
    "        for j in range(length):\n",
    "            if A[i]%A[j]!=0 and A[i]!=A[j]:\n",
    "                cnt+=1\n",
    "        if cnt==N-1:\n",
    "            rcnt+=1\n",
    "    print(rcnt)"
   ]
  },
  {
   "cell_type": "code",
   "execution_count": 26,
   "metadata": {},
   "outputs": [
    {
     "ename": "TypeError",
     "evalue": "'function' object cannot be interpreted as an integer",
     "output_type": "error",
     "traceback": [
      "\u001b[1;31m---------------------------------------------------------------------------\u001b[0m",
      "\u001b[1;31mTypeError\u001b[0m                                 Traceback (most recent call last)",
      "\u001b[1;32m<ipython-input-26-c2ec70a683e4>\u001b[0m in \u001b[0;36m<module>\u001b[1;34m\u001b[0m\n\u001b[1;32m----> 1\u001b[1;33m \u001b[0mlength\u001b[0m\u001b[1;33m(\u001b[0m\u001b[1;33m*\u001b[0m\u001b[0mA\u001b[0m\u001b[1;33m)\u001b[0m\u001b[1;33m\u001b[0m\u001b[1;33m\u001b[0m\u001b[0m\n\u001b[0m",
      "\u001b[1;32m<ipython-input-25-1393b2d11442>\u001b[0m in \u001b[0;36mlength\u001b[1;34m(n, *A)\u001b[0m\n\u001b[0;32m      3\u001b[0m \u001b[1;32mdef\u001b[0m \u001b[0mlength\u001b[0m\u001b[1;33m(\u001b[0m\u001b[0mn\u001b[0m\u001b[1;33m,\u001b[0m\u001b[1;33m*\u001b[0m\u001b[0mA\u001b[0m\u001b[1;33m)\u001b[0m\u001b[1;33m:\u001b[0m\u001b[1;33m\u001b[0m\u001b[1;33m\u001b[0m\u001b[0m\n\u001b[0;32m      4\u001b[0m \u001b[1;33m\u001b[0m\u001b[0m\n\u001b[1;32m----> 5\u001b[1;33m     \u001b[1;32mfor\u001b[0m \u001b[0mi\u001b[0m \u001b[1;32min\u001b[0m \u001b[0mrange\u001b[0m\u001b[1;33m(\u001b[0m\u001b[0mlength\u001b[0m\u001b[1;33m)\u001b[0m\u001b[1;33m:\u001b[0m\u001b[1;33m\u001b[0m\u001b[1;33m\u001b[0m\u001b[0m\n\u001b[0m\u001b[0;32m      6\u001b[0m         \u001b[1;32mif\u001b[0m \u001b[0mA\u001b[0m\u001b[1;33m[\u001b[0m\u001b[0mi\u001b[0m\u001b[1;33m]\u001b[0m\u001b[1;33m==\u001b[0m\u001b[0mA\u001b[0m\u001b[1;33m[\u001b[0m\u001b[0mi\u001b[0m\u001b[1;33m+\u001b[0m\u001b[1;36m1\u001b[0m\u001b[1;33m]\u001b[0m\u001b[1;33m:\u001b[0m\u001b[1;33m\u001b[0m\u001b[1;33m\u001b[0m\u001b[0m\n\u001b[0;32m      7\u001b[0m             \u001b[0mcnt\u001b[0m\u001b[1;33m+=\u001b[0m\u001b[1;36m1\u001b[0m\u001b[1;33m\u001b[0m\u001b[1;33m\u001b[0m\u001b[0m\n",
      "\u001b[1;31mTypeError\u001b[0m: 'function' object cannot be interpreted as an integer"
     ]
    }
   ],
   "source": [
    "length(*A)"
   ]
  },
  {
   "cell_type": "code",
   "execution_count": 1,
   "metadata": {},
   "outputs": [
    {
     "name": "stdout",
     "output_type": "stream",
     "text": [
      "4\n",
      "2 4 5 6\n",
      "2\n"
     ]
    }
   ],
   "source": [
    "#水色の人の解答（takatsu_）\n",
    "#理解不能・・・\n",
    "def main():\n",
    "    N = int(input())\n",
    "    A = list(map(int, input().split()))\n",
    "    A.sort()\n",
    "    dp = [False] * (A[-1] + 1)\n",
    "    r = 0\n",
    " \n",
    "    for i, a in enumerate(A):\n",
    "        if dp[a]:\n",
    "            continue\n",
    "        dp[a::a] = [True] * len(dp[a::a])\n",
    "        if i < N - 1 and A[i + 1] == a:\n",
    "            continue\n",
    "        r += 1\n",
    "    return r\n",
    "print(main())"
   ]
  },
  {
   "cell_type": "code",
   "execution_count": 2,
   "metadata": {},
   "outputs": [
    {
     "name": "stdout",
     "output_type": "stream",
     "text": [
      "4\n",
      "3 3 5 6 98\n",
      "2\n"
     ]
    }
   ],
   "source": [
    "#青の人の解答（hir35）\n",
    "\n",
    "from collections import Counter\n",
    "n = int(input())\n",
    "a = list(map(int, input().split()))\n",
    "\n",
    "#それぞれの数字が何回ずつ出現したかをカウント\n",
    "c = Counter(a)\n",
    "\n",
    "#リストpに10＾6+1個のTrueを格納\n",
    "p = [True] * (10 ** 6 + 1)\n",
    "\n",
    "#list(set())で重複したものを取り除いてからリストにできる\n",
    "s = list(set(a))\n",
    "\n",
    "#sの要素一つ一つを見ていく\n",
    "for x in s:\n",
    "    t = x * 2\n",
    "    #tが10^6以下ならば，p[t]にFalseを代入\n",
    "    #つまり，x(aに格納されている数)の倍数がfalseに\n",
    "    while t <= 10 ** 6:\n",
    "        p[t] = False\n",
    "        t += x\n",
    "ans = 0\n",
    "\n",
    "for x in a:\n",
    "    #もしその数が一つしかなくて，倍数がないならans+1\n",
    "    if c[x] == 1 and p[x] == True:\n",
    "        ans += 1\n",
    "print(ans)"
   ]
  },
  {
   "cell_type": "code",
   "execution_count": 3,
   "metadata": {},
   "outputs": [
    {
     "data": {
      "text/plain": [
       "Counter({3: 2, 5: 1, 6: 1, 98: 1})"
      ]
     },
     "execution_count": 3,
     "metadata": {},
     "output_type": "execute_result"
    }
   ],
   "source": [
    "c"
   ]
  },
  {
   "cell_type": "code",
   "execution_count": 4,
   "metadata": {},
   "outputs": [
    {
     "data": {
      "text/plain": [
       "[98, 3, 5, 6]"
      ]
     },
     "execution_count": 4,
     "metadata": {},
     "output_type": "execute_result"
    }
   ],
   "source": [
    "s"
   ]
  },
  {
   "cell_type": "code",
   "execution_count": null,
   "metadata": {},
   "outputs": [],
   "source": []
  }
 ],
 "metadata": {
  "kernelspec": {
   "display_name": "Python 3",
   "language": "python",
   "name": "python3"
  },
  "language_info": {
   "codemirror_mode": {
    "name": "ipython",
    "version": 3
   },
   "file_extension": ".py",
   "mimetype": "text/x-python",
   "name": "python",
   "nbconvert_exporter": "python",
   "pygments_lexer": "ipython3",
   "version": "3.8.2"
  }
 },
 "nbformat": 4,
 "nbformat_minor": 4
}
