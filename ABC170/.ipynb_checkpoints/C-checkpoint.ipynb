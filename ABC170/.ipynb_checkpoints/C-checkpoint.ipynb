{
 "cells": [
  {
   "cell_type": "code",
   "execution_count": 43,
   "metadata": {},
   "outputs": [],
   "source": [
    "X,N=6,5"
   ]
  },
  {
   "cell_type": "code",
   "execution_count": 44,
   "metadata": {},
   "outputs": [],
   "source": [
    "p=[4,7,10,6,5]"
   ]
  },
  {
   "cell_type": "code",
   "execution_count": 1,
   "metadata": {},
   "outputs": [],
   "source": [
    "import sys"
   ]
  },
  {
   "cell_type": "code",
   "execution_count": 3,
   "metadata": {},
   "outputs": [
    {
     "name": "stdout",
     "output_type": "stream",
     "text": [
      "3 0\n",
      "3\n"
     ]
    },
    {
     "ename": "SystemExit",
     "evalue": "",
     "output_type": "error",
     "traceback": [
      "An exception has occurred, use %tb to see the full traceback.\n",
      "\u001b[1;31mSystemExit\u001b[0m\n"
     ]
    },
    {
     "name": "stderr",
     "output_type": "stream",
     "text": [
      "c:\\users\\yonep\\appdata\\local\\programs\\python\\python38\\lib\\site-packages\\IPython\\core\\interactiveshell.py:3339: UserWarning: To exit: use 'exit', 'quit', or Ctrl-D.\n",
      "  warn(\"To exit: use 'exit', 'quit', or Ctrl-D.\", stacklevel=1)\n"
     ]
    }
   ],
   "source": [
    "X,N=map(int,input().split())\n",
    "    \n",
    "if N==0:\n",
    "    print(X)\n",
    "    sys.exit()\n",
    "    \n",
    "p=list(map(int,input().split()))"
   ]
  },
  {
   "cell_type": "code",
   "execution_count": 50,
   "metadata": {},
   "outputs": [
    {
     "ename": "TabError",
     "evalue": "inconsistent use of tabs and spaces in indentation (<ipython-input-50-3da6814e7109>, line 7)",
     "output_type": "error",
     "traceback": [
      "\u001b[1;36m  File \u001b[1;32m\"<ipython-input-50-3da6814e7109>\"\u001b[1;36m, line \u001b[1;32m7\u001b[0m\n\u001b[1;33m    p=list(map(int,input().split()))\u001b[0m\n\u001b[1;37m                                    ^\u001b[0m\n\u001b[1;31mTabError\u001b[0m\u001b[1;31m:\u001b[0m inconsistent use of tabs and spaces in indentation\n"
     ]
    }
   ],
   "source": [
    "def abs_search(n,*l):\n",
    "    \n",
    "    if X  not in p:\n",
    "        print(X)\n",
    "        return\n",
    "    \n",
    "    for pl_num in range(X+1,102):\n",
    "        if pl_num not in p:\n",
    "            break\n",
    "            \n",
    "    for mi_num in range(X-1,-1,-1):\n",
    "        if mi_num not in p:\n",
    "            break\n",
    "            \n",
    "    abs_pl=abs(pl_num-X)\n",
    "    abs_mi=abs(mi_num-X)\n",
    "    \n",
    "    \n",
    "    if abs_pl<abs_mi:\n",
    "        print(pl_num)\n",
    "    else:\n",
    "        print(mi_num)"
   ]
  },
  {
   "cell_type": "code",
   "execution_count": 48,
   "metadata": {},
   "outputs": [
    {
     "name": "stdout",
     "output_type": "stream",
     "text": [
      "8\n"
     ]
    }
   ],
   "source": [
    "abs_search(*p)"
   ]
  },
  {
   "cell_type": "code",
   "execution_count": null,
   "metadata": {},
   "outputs": [],
   "source": [
    "import sys\n",
    "X,N=map(int,input().split())\n",
    "if N==0:\n",
    "    print(X)\n",
    "    sys.exit()\n",
    "p=list(map(int,input().split()))\n",
    "\n",
    "def abs_search(o,*l):\n",
    "    if X  not in p:\n",
    "        print(X)\n",
    "        return\n",
    "    \n",
    "    for pl_num in range(X+1,102):\n",
    "        if pl_num not in p:\n",
    "            break\n",
    "            \n",
    "    for mi_num in range(X-1,-1,-1):\n",
    "        if mi_num not in p:\n",
    "            break\n",
    "            \n",
    "    abs_pl=abs(pl_num-X)\n",
    "    abs_mi=abs(mi_num-X)\n",
    "    \n",
    "    if abs_pl<abs_mi:\n",
    "        print(pl_num)\n",
    "    else:\n",
    "        print(mi_num)\n",
    "        \n",
    "abs_search(*p)"
   ]
  }
 ],
 "metadata": {
  "kernelspec": {
   "display_name": "Python 3",
   "language": "python",
   "name": "python3"
  },
  "language_info": {
   "codemirror_mode": {
    "name": "ipython",
    "version": 3
   },
   "file_extension": ".py",
   "mimetype": "text/x-python",
   "name": "python",
   "nbconvert_exporter": "python",
   "pygments_lexer": "ipython3",
   "version": "3.8.2"
  }
 },
 "nbformat": 4,
 "nbformat_minor": 4
}
