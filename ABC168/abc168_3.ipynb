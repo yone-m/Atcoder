{
 "cells": [
  {
   "cell_type": "code",
   "execution_count": 16,
   "metadata": {},
   "outputs": [
    {
     "name": "stdout",
     "output_type": "stream",
     "text": [
      "3 10 2 10\n",
      "7.016289483373336\n"
     ]
    }
   ],
   "source": [
    "import math\n",
    "a,b,h,m=map(int,input().split())\n",
    " \n",
    "dh=30*h+m/2\n",
    "dm=6*m\n",
    " \n",
    "if dm==dh:\n",
    "    rad=0\n",
    "else:\n",
    "    rad=abs(dm-dh)\n",
    "    \n",
    "if rad>180:\n",
    "    rad=360-rad\n",
    "    length=math.sqrt(a**2+b**2-2*a*b*math.cos(math.radians(rad)))\n",
    " \n",
    "elif 0<rad and rad<180:\n",
    "    length=math.sqrt(a**2+b**2-2*a*b*math.cos(math.radians(rad)))\n",
    " \n",
    "elif rad==180:\n",
    "    length=a+b\n",
    "    \n",
    "else:\n",
    "    length=abs(a-b)\n",
    "    \n",
    "print(length)"
   ]
  },
  {
   "cell_type": "code",
   "execution_count": null,
   "metadata": {},
   "outputs": [],
   "source": []
  }
 ],
 "metadata": {
  "kernelspec": {
   "display_name": "Python 3",
   "language": "python",
   "name": "python3"
  },
  "language_info": {
   "codemirror_mode": {
    "name": "ipython",
    "version": 3
   },
   "file_extension": ".py",
   "mimetype": "text/x-python",
   "name": "python",
   "nbconvert_exporter": "python",
   "pygments_lexer": "ipython3",
   "version": "3.8.2"
  }
 },
 "nbformat": 4,
 "nbformat_minor": 4
}
