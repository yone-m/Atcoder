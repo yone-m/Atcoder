{
 "cells": [
  {
   "cell_type": "code",
   "execution_count": 2,
   "metadata": {},
   "outputs": [],
   "source": [
    "n=2\n",
    "a=[1,5]\n",
    "b=[2,4]\n",
    "c=[3,6]"
   ]
  },
  {
   "cell_type": "code",
   "execution_count": 151,
   "metadata": {},
   "outputs": [],
   "source": [
    "n=6\n",
    "a=[3 ,14, 159, 2, 6, 53]\n",
    "b=[58 ,9 ,79 ,323 ,84 ,6]\n",
    "c=[2643, 383, 2 ,79 ,50, 288]"
   ]
  },
  {
   "cell_type": "code",
   "execution_count": 197,
   "metadata": {},
   "outputs": [
    {
     "name": "stdout",
     "output_type": "stream",
     "text": [
      "[2, 3, 6, 14, 53, 159]\n",
      "[6, 9, 58, 79, 84, 323]\n",
      "[2, 50, 79, 288, 383, 2643]\n"
     ]
    }
   ],
   "source": [
    "'''\n",
    "n=int(input())\n",
    "a=list(map(int,input().split()))\n",
    "b=list(map(int,input().split()))\n",
    "c=list(map(int,input().split()))\n",
    "'''\n",
    "\n",
    "al=sorted(a)\n",
    "bl=sorted(b)\n",
    "cl=sorted(c)\n",
    "print(al)\n",
    "print(bl)\n",
    "print(cl)"
   ]
  },
  {
   "cell_type": "code",
   "execution_count": 198,
   "metadata": {},
   "outputs": [],
   "source": [
    "abl=[0]*n\n",
    "bcl=[0]*n\n",
    "i=n-1"
   ]
  },
  {
   "cell_type": "code",
   "execution_count": 199,
   "metadata": {},
   "outputs": [
    {
     "data": {
      "text/plain": [
       "[0, 0, 0, 0, 0, 0]"
      ]
     },
     "execution_count": 199,
     "metadata": {},
     "output_type": "execute_result"
    }
   ],
   "source": [
    "abl"
   ]
  },
  {
   "cell_type": "code",
   "execution_count": 200,
   "metadata": {},
   "outputs": [
    {
     "name": "stdout",
     "output_type": "stream",
     "text": [
      "i,j 5 5\n",
      "i,j 5 4\n",
      "159 84 5 4\n",
      "i,j 4 3\n",
      "i,j 4 2\n",
      "i,j 4 1\n",
      "53 9 4 1\n",
      "14 9 3 1\n",
      "i,j 2 0\n",
      "6 6 2 0\n"
     ]
    }
   ],
   "source": [
    "for j in range(n-1,-1,-1):\n",
    "    print(\"i,j\",i,j)\n",
    "    if i==-1:\n",
    "        abl[j]=0\n",
    "        continue\n",
    "    while al[i]>=bl[j]:\n",
    "        print(al[i],bl[j],i,j)\n",
    "        i-=1\n",
    "        if i==-1:\n",
    "            break\n",
    "    if i==-1:\n",
    "        abl[j]=0\n",
    "    else:\n",
    "        abl[j]=i+1"
   ]
  },
  {
   "cell_type": "code",
   "execution_count": 201,
   "metadata": {},
   "outputs": [
    {
     "data": {
      "text/plain": [
       "[2, 3, 5, 5, 5, 6]"
      ]
     },
     "execution_count": 201,
     "metadata": {},
     "output_type": "execute_result"
    }
   ],
   "source": [
    "abl"
   ]
  },
  {
   "cell_type": "code",
   "execution_count": 202,
   "metadata": {},
   "outputs": [
    {
     "name": "stdout",
     "output_type": "stream",
     "text": [
      "6 2 0 0\n",
      "58 50 2 1\n",
      "79 79 3 2\n",
      "323 288 5 3\n"
     ]
    }
   ],
   "source": [
    "bcl=[0]*n\n",
    "k=0\n",
    "for j in range(n):\n",
    "    if k==n:\n",
    "        bcl[j]=0\n",
    "        continue\n",
    "    while cl[k]<=bl[j]:\n",
    "        print(bl[j],cl[k],j,k)\n",
    "        k+=1\n",
    "        if k==n:\n",
    "            break\n",
    "    if k==n:\n",
    "        bcl[j]=0\n",
    "    else:\n",
    "        bcl[j]=(n-k)"
   ]
  },
  {
   "cell_type": "code",
   "execution_count": 203,
   "metadata": {},
   "outputs": [
    {
     "data": {
      "text/plain": [
       "[5, 5, 4, 3, 3, 2]"
      ]
     },
     "execution_count": 203,
     "metadata": {},
     "output_type": "execute_result"
    }
   ],
   "source": [
    "bcl"
   ]
  },
  {
   "cell_type": "code",
   "execution_count": 206,
   "metadata": {},
   "outputs": [],
   "source": [
    "ans=0\n",
    "for i in range(n):\n",
    "    ans+=abl[i]*bcl[i]"
   ]
  },
  {
   "cell_type": "code",
   "execution_count": 207,
   "metadata": {},
   "outputs": [
    {
     "data": {
      "text/plain": [
       "87"
      ]
     },
     "execution_count": 207,
     "metadata": {},
     "output_type": "execute_result"
    }
   ],
   "source": [
    "ans"
   ]
  },
  {
   "cell_type": "code",
   "execution_count": null,
   "metadata": {},
   "outputs": [],
   "source": [
    "#別解\n",
    "import bisect\n",
    "N = int(input())\n",
    "A = list(map(int, input().split()))\n",
    "B = list(map(int, input().split()))\n",
    "C = list(map(int, input().split()))\n",
    " \n",
    "A.sort()\n",
    "B.sort()\n",
    "C.sort()\n",
    " \n",
    "ans = 0\n",
    " \n",
    "for b in B:\n",
    "    n_lower_B = bisect.bisect_left(A, b)\n",
    "    n_higher_B = N - bisect.bisect_right(C, b)\n",
    "    ans += n_lower_B * n_higher_B\n",
    "print(ans)"
   ]
  }
 ],
 "metadata": {
  "kernelspec": {
   "display_name": "Python 3",
   "language": "python",
   "name": "python3"
  },
  "language_info": {
   "codemirror_mode": {
    "name": "ipython",
    "version": 3
   },
   "file_extension": ".py",
   "mimetype": "text/x-python",
   "name": "python",
   "nbconvert_exporter": "python",
   "pygments_lexer": "ipython3",
   "version": "3.8.2"
  }
 },
 "nbformat": 4,
 "nbformat_minor": 4
}
