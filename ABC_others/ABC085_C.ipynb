{
 "cells": [
  {
   "cell_type": "code",
   "execution_count": 24,
   "metadata": {},
   "outputs": [
    {
     "name": "stdout",
     "output_type": "stream",
     "text": [
      "9 45000\n",
      "-1 -1 -1\n"
     ]
    }
   ],
   "source": [
    "N,Y=map(int,input().split())\n",
    "if (Y > N * 10000):\n",
    "    print(-1,-1,-1)\n",
    "    exit()\n",
    "for i in range(N+1):\n",
    "    for j in range(N-i+1):\n",
    "        k=N-i-j\n",
    "        total=10000*i+5000*j*1000*k\n",
    "        if total==Y:\n",
    "            print(i,j,k)\n",
    "            exit()\n",
    "print(-1,-1,-1)            "
   ]
  },
  {
   "cell_type": "code",
   "execution_count": 12,
   "metadata": {},
   "outputs": [
    {
     "name": "stdout",
     "output_type": "stream",
     "text": [
      "9 45000\n",
      "0 9 0\n"
     ]
    }
   ],
   "source": [
    "def resolve():\n",
    "    N, Y = map(int, input().split())\n",
    " \n",
    "    if (Y > N * 10000):\n",
    "        print('-1 -1 -1')\n",
    "        return\n",
    "    for x in range(N+1):\n",
    "        for y in range(N+1-x):\n",
    "            z = N - x - y\n",
    "            total = x * 10000 + y * 5000 + z * 1000\n",
    "            if (total == Y):\n",
    "                print(f'{x} {y} {z}')\n",
    "                return\n",
    "    print('-1 -1 -1')\n",
    " \n",
    "if __name__ == \"__main__\":\n",
    "    resolve()"
   ]
  },
  {
   "cell_type": "code",
   "execution_count": null,
   "metadata": {},
   "outputs": [],
   "source": []
  }
 ],
 "metadata": {
  "kernelspec": {
   "display_name": "Python 3.8.2 64-bit",
   "language": "python",
   "name": "python38264bite513cacf2d1a40fc96e4023b18037327"
  },
  "language_info": {
   "codemirror_mode": {
    "name": "ipython",
    "version": 3
   },
   "file_extension": ".py",
   "mimetype": "text/x-python",
   "name": "python",
   "nbconvert_exporter": "python",
   "pygments_lexer": "ipython3",
   "version": "3.8.2"
  },
  "toc": {
   "base_numbering": 1,
   "nav_menu": {},
   "number_sections": true,
   "sideBar": true,
   "skip_h1_title": false,
   "title_cell": "Table of Contents",
   "title_sidebar": "Contents",
   "toc_cell": false,
   "toc_position": {},
   "toc_section_display": true,
   "toc_window_display": false
  }
 },
 "nbformat": 4,
 "nbformat_minor": 4
}
